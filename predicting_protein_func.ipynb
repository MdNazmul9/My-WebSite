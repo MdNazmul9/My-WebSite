{
 "cells": [
  {
   "cell_type": "code",
   "execution_count": 1,
   "metadata": {},
   "outputs": [
    {
     "name": "stdout",
     "output_type": "stream",
     "text": [
      "Datasets have been loaded...\n"
     ]
    }
   ],
   "source": [
    "import pandas as pd\n",
    "import numpy as np\n",
    "from matplotlib import pyplot as plt\n",
    "import seaborn as sns\n",
    "from sklearn.feature_extraction.text import CountVectorizer\n",
    "from sklearn.model_selection import train_test_split\n",
    "from sklearn.metrics import accuracy_score, confusion_matrix, classification_report\n",
    "\n",
    "\n",
    "# Import Datasets\n",
    "df_seq = pd.read_csv('C:\\Protein/pdb_data_seq.csv')\n",
    "df_char = pd.read_csv('C:\\Protein/pdb_data_no_dups.csv')\n",
    "\n",
    "print('Datasets have been loaded...')"
   ]
  },
  {
   "cell_type": "code",
   "execution_count": 2,
   "metadata": {},
   "outputs": [
    {
     "data": {
      "text/html": [
       "<div>\n",
       "<style scoped>\n",
       "    .dataframe tbody tr th:only-of-type {\n",
       "        vertical-align: middle;\n",
       "    }\n",
       "\n",
       "    .dataframe tbody tr th {\n",
       "        vertical-align: top;\n",
       "    }\n",
       "\n",
       "    .dataframe thead th {\n",
       "        text-align: right;\n",
       "    }\n",
       "</style>\n",
       "<table border=\"1\" class=\"dataframe\">\n",
       "  <thead>\n",
       "    <tr style=\"text-align: right;\">\n",
       "      <th></th>\n",
       "      <th>structureId</th>\n",
       "      <th>sequence</th>\n",
       "    </tr>\n",
       "  </thead>\n",
       "  <tbody>\n",
       "    <tr>\n",
       "      <th>4</th>\n",
       "      <td>101M</td>\n",
       "      <td>MVLSEGEWQLVLHVWAKVEADVAGHGQDILIRLFKSHPETLEKFDR...</td>\n",
       "    </tr>\n",
       "    <tr>\n",
       "      <th>7</th>\n",
       "      <td>102L</td>\n",
       "      <td>MNIFEMLRIDEGLRLKIYKDTEGYYTIGIGHLLTKSPSLNAAAKSE...</td>\n",
       "    </tr>\n",
       "    <tr>\n",
       "      <th>8</th>\n",
       "      <td>102M</td>\n",
       "      <td>MVLSEGEWQLVLHVWAKVEADVAGHGQDILIRLFKSHPETLEKFDR...</td>\n",
       "    </tr>\n",
       "    <tr>\n",
       "      <th>11</th>\n",
       "      <td>103L</td>\n",
       "      <td>MNIFEMLRIDEGLRLKIYKDTEGYYTIGIGHLLTKSPSLNSLDAAK...</td>\n",
       "    </tr>\n",
       "    <tr>\n",
       "      <th>12</th>\n",
       "      <td>103M</td>\n",
       "      <td>MVLSEGEWQLVLHVWAKVEADVAGHGQDILIRLFKSHPETLEKFDR...</td>\n",
       "    </tr>\n",
       "  </tbody>\n",
       "</table>\n",
       "</div>"
      ],
      "text/plain": [
       "   structureId                                           sequence\n",
       "4         101M  MVLSEGEWQLVLHVWAKVEADVAGHGQDILIRLFKSHPETLEKFDR...\n",
       "7         102L  MNIFEMLRIDEGLRLKIYKDTEGYYTIGIGHLLTKSPSLNAAAKSE...\n",
       "8         102M  MVLSEGEWQLVLHVWAKVEADVAGHGQDILIRLFKSHPETLEKFDR...\n",
       "11        103L  MNIFEMLRIDEGLRLKIYKDTEGYYTIGIGHLLTKSPSLNSLDAAK...\n",
       "12        103M  MVLSEGEWQLVLHVWAKVEADVAGHGQDILIRLFKSHPETLEKFDR..."
      ]
     },
     "execution_count": 2,
     "metadata": {},
     "output_type": "execute_result"
    }
   ],
   "source": [
    "# 2). ----- Filter and Process Dataset ------\n",
    "\n",
    "# Filter for only proteins\n",
    "protein_char = df_char[df_char.macromoleculeType == 'Protein']\n",
    "protein_seq = df_seq[df_seq.macromoleculeType == 'Protein']\n",
    "\n",
    "# Select only necessary variables to join\n",
    "protein_char = protein_char[['structureId','classification']]\n",
    "protein_seq = protein_seq[['structureId','sequence']]\n",
    "protein_seq.head()"
   ]
  },
  {
   "cell_type": "code",
   "execution_count": 3,
   "metadata": {},
   "outputs": [
    {
     "data": {
      "text/html": [
       "<div>\n",
       "<style scoped>\n",
       "    .dataframe tbody tr th:only-of-type {\n",
       "        vertical-align: middle;\n",
       "    }\n",
       "\n",
       "    .dataframe tbody tr th {\n",
       "        vertical-align: top;\n",
       "    }\n",
       "\n",
       "    .dataframe thead th {\n",
       "        text-align: right;\n",
       "    }\n",
       "</style>\n",
       "<table border=\"1\" class=\"dataframe\">\n",
       "  <thead>\n",
       "    <tr style=\"text-align: right;\">\n",
       "      <th></th>\n",
       "      <th>structureId</th>\n",
       "      <th>classification</th>\n",
       "    </tr>\n",
       "  </thead>\n",
       "  <tbody>\n",
       "    <tr>\n",
       "      <th>2</th>\n",
       "      <td>101M</td>\n",
       "      <td>OXYGEN TRANSPORT</td>\n",
       "    </tr>\n",
       "    <tr>\n",
       "      <th>4</th>\n",
       "      <td>102L</td>\n",
       "      <td>HYDROLASE(O-GLYCOSYL)</td>\n",
       "    </tr>\n",
       "    <tr>\n",
       "      <th>5</th>\n",
       "      <td>102M</td>\n",
       "      <td>OXYGEN TRANSPORT</td>\n",
       "    </tr>\n",
       "    <tr>\n",
       "      <th>7</th>\n",
       "      <td>103L</td>\n",
       "      <td>HYDROLASE(O-GLYCOSYL)</td>\n",
       "    </tr>\n",
       "    <tr>\n",
       "      <th>8</th>\n",
       "      <td>103M</td>\n",
       "      <td>OXYGEN TRANSPORT</td>\n",
       "    </tr>\n",
       "  </tbody>\n",
       "</table>\n",
       "</div>"
      ],
      "text/plain": [
       "  structureId         classification\n",
       "2        101M       OXYGEN TRANSPORT\n",
       "4        102L  HYDROLASE(O-GLYCOSYL)\n",
       "5        102M       OXYGEN TRANSPORT\n",
       "7        103L  HYDROLASE(O-GLYCOSYL)\n",
       "8        103M       OXYGEN TRANSPORT"
      ]
     },
     "execution_count": 3,
     "metadata": {},
     "output_type": "execute_result"
    }
   ],
   "source": [
    "protein_char.head()"
   ]
  },
  {
   "cell_type": "code",
   "execution_count": 4,
   "metadata": {},
   "outputs": [
    {
     "data": {
      "text/html": [
       "<div>\n",
       "<style scoped>\n",
       "    .dataframe tbody tr th:only-of-type {\n",
       "        vertical-align: middle;\n",
       "    }\n",
       "\n",
       "    .dataframe tbody tr th {\n",
       "        vertical-align: top;\n",
       "    }\n",
       "\n",
       "    .dataframe thead th {\n",
       "        text-align: right;\n",
       "    }\n",
       "</style>\n",
       "<table border=\"1\" class=\"dataframe\">\n",
       "  <thead>\n",
       "    <tr style=\"text-align: right;\">\n",
       "      <th></th>\n",
       "      <th>classification</th>\n",
       "      <th>sequence</th>\n",
       "    </tr>\n",
       "    <tr>\n",
       "      <th>structureId</th>\n",
       "      <th></th>\n",
       "      <th></th>\n",
       "    </tr>\n",
       "  </thead>\n",
       "  <tbody>\n",
       "    <tr>\n",
       "      <th>101M</th>\n",
       "      <td>OXYGEN TRANSPORT</td>\n",
       "      <td>MVLSEGEWQLVLHVWAKVEADVAGHGQDILIRLFKSHPETLEKFDR...</td>\n",
       "    </tr>\n",
       "    <tr>\n",
       "      <th>102L</th>\n",
       "      <td>HYDROLASE(O-GLYCOSYL)</td>\n",
       "      <td>MNIFEMLRIDEGLRLKIYKDTEGYYTIGIGHLLTKSPSLNAAAKSE...</td>\n",
       "    </tr>\n",
       "    <tr>\n",
       "      <th>102M</th>\n",
       "      <td>OXYGEN TRANSPORT</td>\n",
       "      <td>MVLSEGEWQLVLHVWAKVEADVAGHGQDILIRLFKSHPETLEKFDR...</td>\n",
       "    </tr>\n",
       "    <tr>\n",
       "      <th>103L</th>\n",
       "      <td>HYDROLASE(O-GLYCOSYL)</td>\n",
       "      <td>MNIFEMLRIDEGLRLKIYKDTEGYYTIGIGHLLTKSPSLNSLDAAK...</td>\n",
       "    </tr>\n",
       "    <tr>\n",
       "      <th>103M</th>\n",
       "      <td>OXYGEN TRANSPORT</td>\n",
       "      <td>MVLSEGEWQLVLHVWAKVEADVAGHGQDILIRLFKSHPETLEKFDR...</td>\n",
       "    </tr>\n",
       "  </tbody>\n",
       "</table>\n",
       "</div>"
      ],
      "text/plain": [
       "                    classification  \\\n",
       "structureId                          \n",
       "101M              OXYGEN TRANSPORT   \n",
       "102L         HYDROLASE(O-GLYCOSYL)   \n",
       "102M              OXYGEN TRANSPORT   \n",
       "103L         HYDROLASE(O-GLYCOSYL)   \n",
       "103M              OXYGEN TRANSPORT   \n",
       "\n",
       "                                                      sequence  \n",
       "structureId                                                     \n",
       "101M         MVLSEGEWQLVLHVWAKVEADVAGHGQDILIRLFKSHPETLEKFDR...  \n",
       "102L         MNIFEMLRIDEGLRLKIYKDTEGYYTIGIGHLLTKSPSLNAAAKSE...  \n",
       "102M         MVLSEGEWQLVLHVWAKVEADVAGHGQDILIRLFKSHPETLEKFDR...  \n",
       "103L         MNIFEMLRIDEGLRLKIYKDTEGYYTIGIGHLLTKSPSLNSLDAAK...  \n",
       "103M         MVLSEGEWQLVLHVWAKVEADVAGHGQDILIRLFKSHPETLEKFDR...  "
      ]
     },
     "execution_count": 4,
     "metadata": {},
     "output_type": "execute_result"
    }
   ],
   "source": [
    "# Join two datasets on structureId\n",
    "model_f = protein_char.set_index('structureId').join(protein_seq.set_index('structureId'))\n",
    "model_f.head()"
   ]
  },
  {
   "cell_type": "code",
   "execution_count": 5,
   "metadata": {},
   "outputs": [
    {
     "name": "stdout",
     "output_type": "stream",
     "text": [
      "346325 is the number of rows in the joined dataset\n"
     ]
    }
   ],
   "source": [
    "print('%d is the number of rows in the joined dataset' %model_f.shape[0])"
   ]
  },
  {
   "cell_type": "code",
   "execution_count": 6,
   "metadata": {},
   "outputs": [
    {
     "data": {
      "text/plain": [
       "classification    1\n",
       "sequence          3\n",
       "dtype: int64"
      ]
     },
     "execution_count": 6,
     "metadata": {},
     "output_type": "execute_result"
    }
   ],
   "source": [
    "# Check NA counts\n",
    "model_f.isnull().sum()"
   ]
  },
  {
   "cell_type": "code",
   "execution_count": 7,
   "metadata": {},
   "outputs": [
    {
     "name": "stdout",
     "output_type": "stream",
     "text": [
      "346321 is the number of proteins that have a classification and sequence\n"
     ]
    }
   ],
   "source": [
    "# Drop rows with missing values\n",
    "model_f = model_f.dropna()\n",
    "print('%d is the number of proteins that have a classification and sequence' %model_f.shape[0])"
   ]
  },
  {
   "cell_type": "code",
   "execution_count": 8,
   "metadata": {},
   "outputs": [
    {
     "name": "stdout",
     "output_type": "stream",
     "text": [
      "HYDROLASE                                  46336\n",
      "TRANSFERASE                                36424\n",
      "OXIDOREDUCTASE                             34321\n",
      "IMMUNE SYSTEM                              15615\n",
      "LYASE                                      11682\n",
      "HYDROLASE/HYDROLASE INHIBITOR              11218\n",
      "TRANSCRIPTION                               8919\n",
      "VIRAL PROTEIN                               8495\n",
      "TRANSPORT PROTEIN                           8371\n",
      "VIRUS                                       6972\n",
      "SIGNALING PROTEIN                           6469\n",
      "ISOMERASE                                   6356\n",
      "LIGASE                                      4964\n",
      "MEMBRANE PROTEIN                            4891\n",
      "PROTEIN BINDING                             4884\n",
      "STRUCTURAL PROTEIN                          4335\n",
      "CHAPERONE                                   4156\n",
      "STRUCTURAL GENOMICS, UNKNOWN FUNCTION       3548\n",
      "SUGAR BINDING PROTEIN                       3474\n",
      "DNA BINDING PROTEIN                         3199\n",
      "PHOTOSYNTHESIS                              3139\n",
      "ELECTRON TRANSPORT                          3047\n",
      "TRANSFERASE/TRANSFERASE INHIBITOR           3032\n",
      "METAL BINDING PROTEIN                       3023\n",
      "CELL ADHESION                               2999\n",
      "UNKNOWN FUNCTION                            2842\n",
      "PROTEIN TRANSPORT                           2674\n",
      "TOXIN                                       2626\n",
      "CELL CYCLE                                  2496\n",
      "RNA BINDING PROTEIN                         1969\n",
      "                                           ...  \n",
      "ANTIVIRAL PROTEIN, RECOMBINATION               1\n",
      "RNA-BINDING DOMAIN                             1\n",
      "COHESIN                                        1\n",
      "Transferase,Signaling Protein/INHIBITOR        1\n",
      "TRANSLATION FACTOR                             1\n",
      "HEPARIN AND INTEGRIN BINDING                   1\n",
      "TRANSPORT AND PROTECTION PROTEIN               1\n",
      "TELOKIN-LIKE PROTEIN                           1\n",
      "Laminin Binding Protein                        1\n",
      "DE NOVO PROTEIN, TOXIN                         1\n",
      "Rna binding protein/inhibitor                  1\n",
      "Cytokine receptor                              1\n",
      "PROTEIN TRAFFICKING                            1\n",
      "PLASMINOGEN                                    1\n",
      "SIGNALING PROTEIN, STRUCTURAL PROTEIN          1\n",
      "PLANT SEED STORAGE PROTEIN (VICILIN)           1\n",
      "APPA                                           1\n",
      "TRANSFERASE(GLUCOSYLTRANSFERASE)               1\n",
      "TRANSCRIPTIONAL ANTITERMINATOR                 1\n",
      "IMMUNOGLOBULIN FOLD                            1\n",
      "AGGLUTININ                                     1\n",
      "HYDROXYLASE REGULATORY PROTEIN                 1\n",
      "TRANSCRIPTION ACTIVATION                       1\n",
      "Cytokine, Signaling Protein                    1\n",
      "RNASE-2                                        1\n",
      "PLANT DEFENSIN                                 1\n",
      "protease inhibitor                             1\n",
      "HYDROLASE/GENE REGULATION                      1\n",
      "MYOGLOBIN (ETHYL ISOCYANIDE)                   1\n",
      "LATE PROTEIN                                   1\n",
      "Name: classification, Length: 4468, dtype: int64\n"
     ]
    },
    {
     "data": {
      "image/png": "[encoded data removed]",
      "text/plain": [
       "<Figure size 432x288 with 1 Axes>"
      ]
     },
     "metadata": {
      "needs_background": "light"
     },
     "output_type": "display_data"
    }
   ],
   "source": [
    "# Look at classification type counts\n",
    "counts = model_f.classification.value_counts()\n",
    "print(counts)\n",
    "\n",
    "#plot counts\n",
    "plt.figure()\n",
    "sns.distplot(counts, hist = False, color = 'purple')\n",
    "plt.title('Count Distribution for Family Types')\n",
    "plt.ylabel('% of records')\n",
    "plt.show()"
   ]
  },
  {
   "cell_type": "code",
   "execution_count": 9,
   "metadata": {},
   "outputs": [
    {
     "name": "stdout",
     "output_type": "stream",
     "text": [
      "['HYDROLASE' 'TRANSFERASE' 'OXIDOREDUCTASE' 'IMMUNE SYSTEM' 'LYASE'\n",
      " 'HYDROLASE/HYDROLASE INHIBITOR' 'TRANSCRIPTION' 'VIRAL PROTEIN'\n",
      " 'TRANSPORT PROTEIN' 'VIRUS' 'SIGNALING PROTEIN' 'ISOMERASE' 'LIGASE'\n",
      " 'MEMBRANE PROTEIN' 'PROTEIN BINDING' 'STRUCTURAL PROTEIN' 'CHAPERONE'\n",
      " 'STRUCTURAL GENOMICS, UNKNOWN FUNCTION' 'SUGAR BINDING PROTEIN'\n",
      " 'DNA BINDING PROTEIN' 'PHOTOSYNTHESIS' 'ELECTRON TRANSPORT'\n",
      " 'TRANSFERASE/TRANSFERASE INHIBITOR' 'METAL BINDING PROTEIN'\n",
      " 'CELL ADHESION' 'UNKNOWN FUNCTION' 'PROTEIN TRANSPORT' 'TOXIN'\n",
      " 'CELL CYCLE' 'RNA BINDING PROTEIN' 'DE NOVO PROTEIN' 'HORMONE'\n",
      " 'GENE REGULATION' 'OXIDOREDUCTASE/OXIDOREDUCTASE INHIBITOR' 'APOPTOSIS'\n",
      " 'MOTOR PROTEIN' 'PROTEIN FIBRIL' 'METAL TRANSPORT'\n",
      " 'VIRAL PROTEIN/IMMUNE SYSTEM' 'CONTRACTILE PROTEIN' 'FLUORESCENT PROTEIN'\n",
      " 'TRANSLATION' 'BIOSYNTHETIC PROTEIN']\n",
      "278866 is the number of records in the final filtered dataset\n"
     ]
    }
   ],
   "source": [
    "# Get classification types where counts are over 1000\n",
    "types = np.asarray(counts[(counts > 1000)].index)\n",
    "\n",
    "# Filter dataset's records for classification types > 1000\n",
    "data = model_f[model_f.classification.isin(types)]\n",
    "\n",
    "print(types)\n",
    "print('%d is the number of records in the final filtered dataset' %data.shape[0])"
   ]
  },
  {
   "cell_type": "code",
   "execution_count": 10,
   "metadata": {},
   "outputs": [
    {
     "name": "stdout",
     "output_type": "stream",
     "text": [
      "['zhhh', 'ziar', 'zigi', 'ziwz', 'zkal', 'zkky', 'zknt', 'zkyh', 'zlik', 'zlzk', 'zpvm', 'zrgd', 'zrvi', 'ztvl', 'ztzk', 'zvbd', 'zvib', 'zvka', 'zwdl', 'zzvb']\n"
     ]
    }
   ],
   "source": [
    "# 3). ----- Train Test Split -----\n",
    "\n",
    "# Split Data\n",
    "X_train, X_test,y_train,y_test = train_test_split(data['sequence'], data['classification'], test_size = 0.2, random_state = 1)\n",
    "\n",
    "# Create a Count Vectorizer to gather the unique elements in sequence\n",
    "vect = CountVectorizer(analyzer = 'char_wb', ngram_range = (4,4))\n",
    "\n",
    "# Fit and Transform CountVectorizer\n",
    "vect.fit(X_train)\n",
    "X_train_df = vect.transform(X_train)\n",
    "X_test_df = vect.transform(X_test)\n",
    "\n",
    "#Print a few of the features\n",
    "print(vect.get_feature_names()[-20:])"
   ]
  },
  {
   "cell_type": "code",
   "execution_count": 12,
   "metadata": {},
   "outputs": [
    {
     "name": "stdout",
     "output_type": "stream",
     "text": [
      "0.7638505396779861\n"
     ]
    }
   ],
   "source": [
    "# 4). ------ Machine Learning Models ------\n",
    "\n",
    "# Make a prediction dictionary to store accuracys\n",
    "prediction = dict()\n",
    "\n",
    "# Naive Bayes Model\n",
    "from sklearn.naive_bayes import MultinomialNB\n",
    "model = MultinomialNB()\n",
    "model.fit(X_train_df, y_train)\n",
    "NB_pred = model.predict(X_test_df)\n",
    "prediction[\"MultinomialNB\"] = accuracy_score(NB_pred, y_test)\n",
    "print( prediction['MultinomialNB'])"
   ]
  },
  {
   "cell_type": "code",
   "execution_count": 13,
   "metadata": {},
   "outputs": [
    {
     "name": "stdout",
     "output_type": "stream",
     "text": [
      "0.18614408147165346\n"
     ]
    }
   ],
   "source": [
    "# Adaboost\n",
    "from sklearn.ensemble import AdaBoostClassifier\n",
    "model = AdaBoostClassifier()\n",
    "model.fit(X_train_df,y_train)\n",
    "ADA_pred = model.predict(X_test_df)\n",
    "prediction[\"Adaboost\"] = accuracy_score(ADA_pred , y_test)\n",
    "print(prediction[\"Adaboost\"])"
   ]
  },
  {
   "cell_type": "code",
   "execution_count": 14,
   "metadata": {},
   "outputs": [
    {
     "data": {
      "text/plain": [
       "<matplotlib.axes._subplots.AxesSubplot at 0x1c8807159b0>"
      ]
     },
     "execution_count": 14,
     "metadata": {},
     "output_type": "execute_result"
    },
    {
     "data": {
      "image/png": "[encoded data removed]",
      "text/plain": [
       "<Figure size 936x576 with 2 Axes>"
      ]
     },
     "metadata": {
      "needs_background": "light"
     },
     "output_type": "display_data"
    }
   ],
   "source": [
    "# 5). ----- Plot Confusion Matrix for NB -----\n",
    "\n",
    "# Plot confusion matrix\n",
    "conf_mat = confusion_matrix(y_test, NB_pred, labels = types)\n",
    "\n",
    "#Normalize confusion_matrix\n",
    "conf_mat = conf_mat.astype('float')/ conf_mat.sum(axis=1)[:, np.newaxis]\n",
    "\n",
    "# Plot Heat Map\n",
    "fig , ax = plt.subplots()\n",
    "fig.set_size_inches(13, 8)\n",
    "sns.heatmap(conf_mat)"
   ]
  },
  {
   "cell_type": "code",
   "execution_count": 15,
   "metadata": {},
   "outputs": [
    {
     "name": "stdout",
     "output_type": "stream",
     "text": [
      "IMMUNE SYSTEM\n",
      "VIRAL PROTEIN/IMMUNE SYSTEM\n"
     ]
    }
   ],
   "source": [
    "print(types[3])\n",
    "print(types[38])"
   ]
  },
  {
   "cell_type": "code",
   "execution_count": 16,
   "metadata": {},
   "outputs": [
    {
     "name": "stdout",
     "output_type": "stream",
     "text": [
      "                                         precision    recall  f1-score   support\n",
      "\n",
      "                              HYDROLASE       0.47      0.74      0.57       250\n",
      "                            TRANSFERASE       0.60      0.82      0.70       211\n",
      "                         OXIDOREDUCTASE       0.75      0.77      0.76       589\n",
      "                          IMMUNE SYSTEM       0.66      0.72      0.69       509\n",
      "                                  LYASE       0.91      0.76      0.83       859\n",
      "          HYDROLASE/HYDROLASE INHIBITOR       0.66      0.88      0.76       224\n",
      "                          TRANSCRIPTION       0.58      0.83      0.68       326\n",
      "                          VIRAL PROTEIN       0.71      0.78      0.75       622\n",
      "                      TRANSPORT PROTEIN       0.60      0.74      0.66       601\n",
      "                                  VIRUS       0.91      0.97      0.94       209\n",
      "                      SIGNALING PROTEIN       0.71      0.73      0.72       309\n",
      "                              ISOMERASE       0.49      0.96      0.65       293\n",
      "                                 LIGASE       0.77      0.78      0.77      9274\n",
      "                       MEMBRANE PROTEIN       0.67      0.76      0.71      2228\n",
      "                        PROTEIN BINDING       0.87      0.76      0.82      3204\n",
      "                     STRUCTURAL PROTEIN       0.94      0.86      0.90      1312\n",
      "                              CHAPERONE       0.87      0.80      0.84       963\n",
      "  STRUCTURAL GENOMICS, UNKNOWN FUNCTION       0.94      0.87      0.90      2324\n",
      "                  SUGAR BINDING PROTEIN       0.68      0.66      0.67       991\n",
      "                    DNA BINDING PROTEIN       0.70      0.72      0.71       607\n",
      "                         PHOTOSYNTHESIS       0.62      0.78      0.69       237\n",
      "                     ELECTRON TRANSPORT       0.52      0.59      0.55       251\n",
      "      TRANSFERASE/TRANSFERASE INHIBITOR       0.93      0.79      0.85      6895\n",
      "                  METAL BINDING PROTEIN       0.37      0.91      0.53       308\n",
      "                          CELL ADHESION       0.81      0.87      0.84       686\n",
      "                       UNKNOWN FUNCTION       0.53      0.59      0.56       953\n",
      "                      PROTEIN TRANSPORT       0.81      0.94      0.87       269\n",
      "                                  TOXIN       0.73      0.70      0.71       526\n",
      "                             CELL CYCLE       0.64      0.81      0.72       396\n",
      "                    RNA BINDING PROTEIN       0.76      0.62      0.68      1284\n",
      "                        DE NOVO PROTEIN       0.48      0.76      0.59       710\n",
      "                                HORMONE       0.86      0.57      0.69       884\n",
      "                        GENE REGULATION       0.84      0.89      0.86       690\n",
      "OXIDOREDUCTASE/OXIDOREDUCTASE INHIBITOR       0.79      0.81      0.80       541\n",
      "                              APOPTOSIS       0.81      0.70      0.75      1652\n",
      "                          MOTOR PROTEIN       0.78      0.77      0.77      7262\n",
      "                         PROTEIN FIBRIL       0.35      0.83      0.49       614\n",
      "                        METAL TRANSPORT       0.69      0.79      0.73       209\n",
      "            VIRAL PROTEIN/IMMUNE SYSTEM       0.82      0.59      0.69      1641\n",
      "                    CONTRACTILE PROTEIN       0.73      0.73      0.73       583\n",
      "                    FLUORESCENT PROTEIN       0.86      0.66      0.74      1703\n",
      "                            TRANSLATION       0.41      0.54      0.46       224\n",
      "                   BIOSYNTHETIC PROTEIN       0.87      0.86      0.86      1351\n",
      "\n",
      "                              micro avg       0.76      0.76      0.76     55774\n",
      "                              macro avg       0.71      0.77      0.73     55774\n",
      "                           weighted avg       0.79      0.76      0.77     55774\n",
      "\n"
     ]
    }
   ],
   "source": [
    "#Print F1 score metrics\n",
    "print(classification_report(y_test, NB_pred, target_names = types))"
   ]
  },
  {
   "cell_type": "code",
   "execution_count": null,
   "metadata": {},
   "outputs": [],
   "source": []
  }
 ],
 "metadata": {
  "kernelspec": {
   "display_name": "Python 3",
   "language": "python",
   "name": "python3"
  },
  "language_info": {
   "codemirror_mode": {
    "name": "ipython",
    "version": 3
   },
   "file_extension": ".py",
   "mimetype": "text/x-python",
   "name": "python",
   "nbconvert_exporter": "python",
   "pygments_lexer": "ipython3",
   "version": "3.7.3"
  }
 },
 "nbformat": 4,
 "nbformat_minor": 2
}
